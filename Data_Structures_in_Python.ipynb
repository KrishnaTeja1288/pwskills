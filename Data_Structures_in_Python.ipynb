{
  "nbformat": 4,
  "nbformat_minor": 0,
  "metadata": {
    "colab": {
      "provenance": []
    },
    "kernelspec": {
      "name": "python3",
      "display_name": "Python 3"
    },
    "language_info": {
      "name": "python"
    }
  },
  "cells": [
    {
      "cell_type": "code",
      "execution_count": null,
      "metadata": {
        "colab": {
          "base_uri": "https://localhost:8080/",
          "height": 36
        },
        "id": "L9MaLpoNDs5a",
        "outputId": "ca5c6727-f489-4af5-9937-74855c786764"
      },
      "outputs": [
        {
          "output_type": "execute_result",
          "data": {
            "text/plain": [
              "' \\n(Ans)\\n\\nstring = input()\\nreverse = string[::-1]\\nprint(reverse)\\n\\n'"
            ],
            "application/vnd.google.colaboratory.intrinsic+json": {
              "type": "string"
            }
          },
          "metadata": {},
          "execution_count": 1
        }
      ],
      "source": [
        "# 1. Write a code to reverse a string?\n",
        "\n",
        "'''\n",
        "(Ans)\n",
        "\n",
        "string = input()\n",
        "reverse = string[::-1]\n",
        "print(reverse)\n",
        "\n",
        "'''"
      ]
    },
    {
      "cell_type": "code",
      "source": [
        "# 2. write a code to count the number of vowels in a string?\n",
        "\n",
        "'''\n",
        "(Ans)\n",
        "\n",
        "string = input()\n",
        "vowels = \"aeiouAEIOU\"\n",
        "count = sum(string.count(vowel) for vowel in vowels)\n",
        "print(count)\n",
        "\n",
        "'''"
      ],
      "metadata": {
        "colab": {
          "base_uri": "https://localhost:8080/",
          "height": 36
        },
        "id": "mnETQcDnEIjc",
        "outputId": "0bf7d1e8-fa01-4ce2-99a6-7adff65ac062"
      },
      "execution_count": null,
      "outputs": [
        {
          "output_type": "execute_result",
          "data": {
            "text/plain": [
              "'\\n(Ans)\\n\\nstring = input()\\nvowels = \"aeiouAEIOU\"\\ncount = sum(string.count(vowel) for vowel in vowels)\\nprint(count)\\n\\n'"
            ],
            "application/vnd.google.colaboratory.intrinsic+json": {
              "type": "string"
            }
          },
          "metadata": {},
          "execution_count": 2
        }
      ]
    },
    {
      "cell_type": "code",
      "source": [
        "# 3. write a code to check if a given string is palindrome or not?\n",
        "'''\n",
        "(Ans)\n",
        "\n",
        "string = input()\n",
        "if string == string[::-1]:\n",
        "    print(\"Palindrome\")\n",
        "else:\n",
        "    print(\"Not Palindrome\")\n",
        "\n",
        "'''"
      ],
      "metadata": {
        "colab": {
          "base_uri": "https://localhost:8080/",
          "height": 36
        },
        "id": "vnu8wnvsEak8",
        "outputId": "56e7d8ff-46a9-48e9-c4d9-5ac1360f4862"
      },
      "execution_count": null,
      "outputs": [
        {
          "output_type": "execute_result",
          "data": {
            "text/plain": [
              "'\\n(Ans)\\n\\nstring = input()\\nif string == string[::-1]:\\n    print(\"Palindrome\")\\nelse:\\n    print(\"Not Palindrome\")\\n\\n'"
            ],
            "application/vnd.google.colaboratory.intrinsic+json": {
              "type": "string"
            }
          },
          "metadata": {},
          "execution_count": 3
        }
      ]
    },
    {
      "cell_type": "code",
      "source": [
        "# 4. write a code to check if two given strings are anagrams or not?\n",
        "'''\n",
        "\n",
        "(Ans)\n",
        "\n",
        "string1 = input()\n",
        "string2 = input()\n",
        "if sorted(string1) == sorted(string2):\n",
        "    print(\"Anagrams\")\n",
        "else:\n",
        "    print(\"Not Anagrams\")\n",
        "\n",
        "'''"
      ],
      "metadata": {
        "colab": {
          "base_uri": "https://localhost:8080/",
          "height": 36
        },
        "id": "jVE6HJirEsMt",
        "outputId": "97619228-2229-401f-cfcb-9ef0127cb0a7"
      },
      "execution_count": null,
      "outputs": [
        {
          "output_type": "execute_result",
          "data": {
            "text/plain": [
              "'\\n\\n(Ans)\\n\\nstring1 = input()\\nstring2 = input()\\nif sorted(string1) == sorted(string2):\\n    print(\"Anagrams\")\\nelse:\\n    print(\"Not Anagrams\")\\n\\n'"
            ],
            "application/vnd.google.colaboratory.intrinsic+json": {
              "type": "string"
            }
          },
          "metadata": {},
          "execution_count": 4
        }
      ]
    },
    {
      "cell_type": "code",
      "source": [
        "# 5. Write a code to find all occurrences of a given substring within another string?\n",
        "\n",
        "'''\n",
        "Ans)\n",
        "\n",
        "string = input()\n",
        "substring = input()\n",
        "occurrences = [i for i in range(len(string)) if string.startswith(substring, i)]\n",
        "print(occurrences)\n",
        "\n",
        "'''\n"
      ],
      "metadata": {
        "colab": {
          "base_uri": "https://localhost:8080/"
        },
        "id": "ww8diLE4E7wR",
        "outputId": "db4cbd05-54f6-452d-cacc-433a3dbd754d"
      },
      "execution_count": null,
      "outputs": [
        {
          "output_type": "stream",
          "name": "stdout",
          "text": [
            "Krishna\n",
            "ris\n",
            "[1]\n"
          ]
        }
      ]
    },
    {
      "cell_type": "code",
      "source": [
        "# 6.  Write a code to perform basic string compression using the counts of repeated characters\n",
        "\n",
        "'''\n",
        "Ans)\n",
        "\n",
        "def compress_string(s):\n",
        "\n",
        "    compressed = []\n",
        "    count = 1\n",
        "\n",
        "    for i in range(1, len(s)):\n",
        "        if s[i] == s[i - 1]:\n",
        "\n",
        "            count += 1\n",
        "        else:\n",
        "\n",
        "            compressed.append(s[i - 1] + str(count))\n",
        "\n",
        "            count = 1\n",
        "\n",
        "\n",
        "    compressed.append(s[-1] + str(count))\n",
        "\n",
        "\n",
        "    compressed_string = ''.join(compressed)\n",
        "\n",
        "\n",
        "    return compressed_string if len(compressed_string) < len(s) else s\n",
        "\n",
        "'''"
      ],
      "metadata": {
        "colab": {
          "base_uri": "https://localhost:8080/",
          "height": 72
        },
        "id": "iXSwsP0jGNDQ",
        "outputId": "336c58ba-2386-48cb-d1cc-dc0452d51ea3"
      },
      "execution_count": null,
      "outputs": [
        {
          "output_type": "execute_result",
          "data": {
            "text/plain": [
              "\"\\nAns)\\n\\ndef compress_string(s):\\n    \\n    compressed = []\\n    count = 1\\n\\n    for i in range(1, len(s)):\\n        if s[i] == s[i - 1]:\\n            \\n            count += 1\\n        else:\\n           \\n            compressed.append(s[i - 1] + str(count))\\n            \\n            count = 1\\n\\n    \\n    compressed.append(s[-1] + str(count))\\n\\n    \\n    compressed_string = ''.join(compressed)\\n\\n   \\n    return compressed_string if len(compressed_string) < len(s) else s\\n\\n\""
            ],
            "application/vnd.google.colaboratory.intrinsic+json": {
              "type": "string"
            }
          },
          "metadata": {},
          "execution_count": 6
        }
      ]
    },
    {
      "cell_type": "code",
      "source": [
        "# 7.  Write a code to determine if a string has all unique characters?\n",
        "\n",
        "'''\n",
        "Ans)\n",
        "\n",
        "string = input()\n",
        "if len(string) == len(set(string)):\n",
        "    print(\"Unique\")\n",
        "else:\n",
        "    print(\"Not Unique\")\n",
        "\n",
        "'''"
      ],
      "metadata": {
        "colab": {
          "base_uri": "https://localhost:8080/",
          "height": 36
        },
        "id": "T1ZuHByFNceG",
        "outputId": "9efaa9c2-8fab-42f5-b6f8-99ee7041c17a"
      },
      "execution_count": null,
      "outputs": [
        {
          "output_type": "execute_result",
          "data": {
            "text/plain": [
              "'\\nAns)\\n\\nstring = input()\\nif len(string) == len(set(string)):\\n    print(\"Unique\")\\nelse:\\n    print(\"Not Unique\")\\n\\n'"
            ],
            "application/vnd.google.colaboratory.intrinsic+json": {
              "type": "string"
            }
          },
          "metadata": {},
          "execution_count": 7
        }
      ]
    },
    {
      "cell_type": "code",
      "source": [
        "#8.  Write a code to convert a given string to uppercase or lowercase?\n",
        "\n",
        "'''\n",
        "Ans)\n",
        "\n",
        "string = input()\n",
        "if string.isupper():\n",
        "    print(string.lower())\n",
        "else:\n",
        "    print(string.upper())\n",
        "\n",
        "'''"
      ],
      "metadata": {
        "colab": {
          "base_uri": "https://localhost:8080/",
          "height": 36
        },
        "id": "C5aXO8ZwNjdU",
        "outputId": "ade4d837-9407-42f4-b6c2-301fd7f1f5a1"
      },
      "execution_count": null,
      "outputs": [
        {
          "output_type": "execute_result",
          "data": {
            "text/plain": [
              "'\\nAns)\\n\\nstring = input()\\nif string.isupper():\\n    print(string.lower())\\nelse:\\n    print(string.upper())\\n\\n'"
            ],
            "application/vnd.google.colaboratory.intrinsic+json": {
              "type": "string"
            }
          },
          "metadata": {},
          "execution_count": 8
        }
      ]
    },
    {
      "cell_type": "code",
      "source": [
        "# 9.  Write a code to count the number of words in a string?\n",
        "\n",
        "'''\n",
        "Ans)\n",
        "\n",
        "string = input()\n",
        "words = string.split()\n",
        "print(len(words))\n",
        "\n",
        "'''"
      ],
      "metadata": {
        "id": "HUliP3feNsIA",
        "colab": {
          "base_uri": "https://localhost:8080/",
          "height": 36
        },
        "outputId": "755a1e21-f2fe-428e-9a21-c35a470c5912"
      },
      "execution_count": null,
      "outputs": [
        {
          "output_type": "execute_result",
          "data": {
            "text/plain": [
              "'\\nAns)\\n\\nstring = input()\\nwords = string.split()\\nprint(len(words))\\n\\n'"
            ],
            "application/vnd.google.colaboratory.intrinsic+json": {
              "type": "string"
            }
          },
          "metadata": {},
          "execution_count": 1
        }
      ]
    },
    {
      "cell_type": "code",
      "source": [
        "# 10.  Write a code to concatenate two strings without using the + operator?\n",
        "\n",
        "'''\n",
        "Ans)\n",
        "\n",
        "string1 = input()\n",
        "string2 = input()\n",
        "concatenated_string = ''.join([string1, string2])\n",
        "print(concatenated_string)\n",
        "\n",
        "'''"
      ],
      "metadata": {
        "colab": {
          "base_uri": "https://localhost:8080/",
          "height": 36
        },
        "id": "_nZxkVcTb05A",
        "outputId": "954286ce-c0c2-427c-986e-6d7d2e1c80b6"
      },
      "execution_count": null,
      "outputs": [
        {
          "output_type": "execute_result",
          "data": {
            "text/plain": [
              "\"\\nAns)\\n\\nstring1 = input()\\nstring2 = input()\\nconcatenated_string = ''.join([string1, string2])\\nprint(concatenated_string)\\n\\n\""
            ],
            "application/vnd.google.colaboratory.intrinsic+json": {
              "type": "string"
            }
          },
          "metadata": {},
          "execution_count": 2
        }
      ]
    },
    {
      "cell_type": "code",
      "source": [
        "# 11.  Write a code to remove all occurrences of a specific element from a list?\n",
        "\n",
        "'''\n",
        "Ans)\n",
        "\n",
        "l = list(map(int,input().split()))\n",
        "l = set(l)\n",
        "l = list(l)\n",
        "print(l)\n",
        "\n",
        "'''\n"
      ],
      "metadata": {
        "colab": {
          "base_uri": "https://localhost:8080/",
          "height": 36
        },
        "id": "eo68_lnQcKVF",
        "outputId": "95567c31-4a60-4cd2-dde2-1175f6780f73"
      },
      "execution_count": null,
      "outputs": [
        {
          "output_type": "execute_result",
          "data": {
            "text/plain": [
              "'\\nAns)\\n\\nl = list(map(int,input().split()))\\nl = set(l)\\nl = list(l)\\nprint(l)\\n\\n'"
            ],
            "application/vnd.google.colaboratory.intrinsic+json": {
              "type": "string"
            }
          },
          "metadata": {},
          "execution_count": 3
        }
      ]
    },
    {
      "cell_type": "code",
      "source": [
        "# 12.  Implement a code to find the second largest number in a given list of integers?\n",
        "\n",
        "'''\n",
        "Ans)\n",
        "\n",
        "l = list(map(int,input().split()))\n",
        "l.sort()\n",
        "print(l[-2])\n",
        "\n",
        "'''"
      ],
      "metadata": {
        "colab": {
          "base_uri": "https://localhost:8080/",
          "height": 36
        },
        "id": "58pJF91Cc51B",
        "outputId": "16eaa9e0-5b28-4a19-a0cf-c0e2600feaf0"
      },
      "execution_count": null,
      "outputs": [
        {
          "output_type": "execute_result",
          "data": {
            "text/plain": [
              "'\\nAns)\\n\\nl = list(map(int,input().split()))\\nl.sort()\\nprint(l[-2])\\n\\n'"
            ],
            "application/vnd.google.colaboratory.intrinsic+json": {
              "type": "string"
            }
          },
          "metadata": {},
          "execution_count": 4
        }
      ]
    },
    {
      "cell_type": "code",
      "source": [
        "# 13. Create a code to count the occurrences of each element in a list and return a dictionary with elements as keys and their counts as values.?\n",
        "'''\n",
        "Ans)\n",
        "\n",
        "from collections import counter\n",
        "l = list(map(int,input().split()))\n",
        "count = counter(l)\n",
        "print(count)\n",
        "\n",
        "'''"
      ],
      "metadata": {
        "colab": {
          "base_uri": "https://localhost:8080/",
          "height": 36
        },
        "id": "u0n7kOPldCQF",
        "outputId": "eb5a4fbd-358c-48c7-8645-0eef6e407be0"
      },
      "execution_count": null,
      "outputs": [
        {
          "output_type": "execute_result",
          "data": {
            "text/plain": [
              "'\\nAns)\\n\\nfrom collections import counter\\nl = list(map(int,input().split()))\\ncount = counter(l)\\nprint(count)\\n\\n'"
            ],
            "application/vnd.google.colaboratory.intrinsic+json": {
              "type": "string"
            }
          },
          "metadata": {},
          "execution_count": 5
        }
      ]
    },
    {
      "cell_type": "code",
      "source": [
        "# 14. Write a code to reverse a list in-place without using any built-in reverse functions.?\n",
        "\n",
        "'''\n",
        "def reverse_list(arr):\n",
        "\n",
        "    left = 0\n",
        "    right = len(arr) - 1\n",
        "\n",
        "    while left < right:\n",
        "        arr[left], arr[right] = arr[right], arr[left]\n",
        "        left += 1\n",
        "        right -= 1\n",
        "\n",
        "\n",
        "my_list = [1, 2, 3, 4, 5]\n",
        "print(\"Original List:\", my_list)\n",
        "\n",
        "reverse_list(my_list)\n",
        "print(\"Reversed List:\", my_list)\n",
        "\n",
        "\n",
        "'''"
      ],
      "metadata": {
        "colab": {
          "base_uri": "https://localhost:8080/",
          "height": 54
        },
        "id": "Iz-xqbasdTsL",
        "outputId": "390d5df2-42a0-4214-f8d3-66e0c241e7f9"
      },
      "execution_count": null,
      "outputs": [
        {
          "output_type": "execute_result",
          "data": {
            "text/plain": [
              "'\\ndef reverse_list(arr):\\n\\n    left = 0\\n    right = len(arr) - 1\\n\\n    while left < right:\\n        arr[left], arr[right] = arr[right], arr[left]\\n        left += 1\\n        right -= 1\\n\\n\\nmy_list = [1, 2, 3, 4, 5]\\nprint(\"Original List:\", my_list)\\n\\nreverse_list(my_list)\\nprint(\"Reversed List:\", my_list)\\n\\n\\n'"
            ],
            "application/vnd.google.colaboratory.intrinsic+json": {
              "type": "string"
            }
          },
          "metadata": {},
          "execution_count": 6
        }
      ]
    },
    {
      "cell_type": "code",
      "source": [
        "# 15.  Implement a code to find and remove duplicates from a list while preserving the original order of elements.\n",
        "\n",
        "'''\n",
        "Ans)\n",
        "\n",
        "def remove_duplicates(lst):\n",
        "    seen = set()\n",
        "    result = []\n",
        "\n",
        "    for item in lst:\n",
        "        if item not in seen:\n",
        "            result.append(item)\n",
        "            seen.add(item)\n",
        "\n",
        "    return result\n",
        "'''"
      ],
      "metadata": {
        "colab": {
          "base_uri": "https://localhost:8080/",
          "height": 54
        },
        "id": "bj8y1egUeo34",
        "outputId": "9b3cabb4-ca7f-4482-eda7-2907caadf8e9"
      },
      "execution_count": null,
      "outputs": [
        {
          "output_type": "execute_result",
          "data": {
            "text/plain": [
              "'\\nAns)\\n\\ndef remove_duplicates(lst):\\n    seen = set()  \\n    result = []  \\n\\n    for item in lst:\\n        if item not in seen:\\n            result.append(item)  \\n            seen.add(item)       \\n\\n    return result\\n'"
            ],
            "application/vnd.google.colaboratory.intrinsic+json": {
              "type": "string"
            }
          },
          "metadata": {},
          "execution_count": 7
        }
      ]
    },
    {
      "cell_type": "code",
      "source": [
        "# 16.  Create a code to check if a given list is sorted (either in ascending or descending order) or not.?\n",
        "\n",
        "'''\n",
        "Ans)\n",
        "\n",
        "def is_sorted(lst):\n",
        "    for i in range(1, len(lst)):\n",
        "        if lst[i] < lst[i - 1]:\n",
        "            return False\n",
        "    return True\n",
        "'''"
      ],
      "metadata": {
        "colab": {
          "base_uri": "https://localhost:8080/",
          "height": 36
        },
        "id": "zZNcDUQTfbx3",
        "outputId": "0124b398-12ef-43a1-8d6e-fb8996e2698f"
      },
      "execution_count": null,
      "outputs": [
        {
          "output_type": "execute_result",
          "data": {
            "text/plain": [
              "'\\nAns)\\n\\ndef is_sorted(lst):\\n    for i in range(1, len(lst)):\\n        if lst[i] < lst[i - 1]:\\n            return False\\n    return True\\n'"
            ],
            "application/vnd.google.colaboratory.intrinsic+json": {
              "type": "string"
            }
          },
          "metadata": {},
          "execution_count": 8
        }
      ]
    },
    {
      "cell_type": "code",
      "source": [
        "# 17.  Write a code to merge two sorted lists into a single sorted list.?\n",
        "'''\n",
        "Ans)\n",
        "\n",
        "list1 = list(map(int,input().split()))\n",
        "list2 = list(map(int,input().split()))\n",
        "merged_list = sorted(list1 + list2)\n",
        "print(merged_list)\n",
        "\n",
        "'''"
      ],
      "metadata": {
        "colab": {
          "base_uri": "https://localhost:8080/",
          "height": 36
        },
        "id": "1T7UUODPf-yN",
        "outputId": "c93071e9-7b13-446e-a34b-affbd092091b"
      },
      "execution_count": null,
      "outputs": [
        {
          "output_type": "execute_result",
          "data": {
            "text/plain": [
              "'\\nAns)\\n\\nlist1 = list(map(int,input().split()))\\nlist2 = list(map(int,input().split()))\\nmerged_list = sorted(list1 + list2)\\nprint(merged_list)\\n\\n'"
            ],
            "application/vnd.google.colaboratory.intrinsic+json": {
              "type": "string"
            }
          },
          "metadata": {},
          "execution_count": 9
        }
      ]
    },
    {
      "cell_type": "code",
      "source": [
        "# 18.  Implement a code to find the intersection of two given lists?\n",
        "'''\n",
        "Ans)\n",
        "list1 = list(map(int,input().split()))\n",
        "list2 = list(map(int,input().split()))\n",
        "\n",
        "for i in list1:\n",
        "    if i in list2:\n",
        "        print(i,end=\" \")\n",
        "\n",
        "'''"
      ],
      "metadata": {
        "colab": {
          "base_uri": "https://localhost:8080/",
          "height": 36
        },
        "id": "rrpWOL2hgL4X",
        "outputId": "c2eddd23-02b3-4e65-a85b-e92aa0edf299"
      },
      "execution_count": null,
      "outputs": [
        {
          "output_type": "execute_result",
          "data": {
            "text/plain": [
              "'\\nAns)\\nlist1 = list(map(int,input().split()))\\nlist2 = list(map(int,input().split()))\\n\\nfor i in list1:\\n    if i in list2:\\n        print(i,end=\" \")\\n\\n'"
            ],
            "application/vnd.google.colaboratory.intrinsic+json": {
              "type": "string"
            }
          },
          "metadata": {},
          "execution_count": 10
        }
      ]
    },
    {
      "cell_type": "code",
      "source": [
        "#19.  Create a code to find the union of two lists without duplicates?\n",
        "\n",
        "'''\n",
        "Ans)\n",
        "\n",
        "list1 = list(map(int,input().split()))\n",
        "list2 = list(map(int,input().split()))\n",
        "union_list = list(set(list1 + list2))\n",
        "print(union_list)\n",
        "\n",
        "'''"
      ],
      "metadata": {
        "colab": {
          "base_uri": "https://localhost:8080/",
          "height": 36
        },
        "id": "aOidLulqg_B6",
        "outputId": "d3aeb667-0e62-4cde-f967-4322b4640fc4"
      },
      "execution_count": null,
      "outputs": [
        {
          "output_type": "execute_result",
          "data": {
            "text/plain": [
              "'\\nAns)\\n\\nlist1 = list(map(int,input().split()))\\nlist2 = list(map(int,input().split()))\\nunion_list = list(set(list1 + list2))\\nprint(union_list)\\n\\n'"
            ],
            "application/vnd.google.colaboratory.intrinsic+json": {
              "type": "string"
            }
          },
          "metadata": {},
          "execution_count": 11
        }
      ]
    },
    {
      "cell_type": "code",
      "source": [
        "# 20. Write a code to shuffle a given list randomly without using any built-in shuffle function?\n",
        "'''\n",
        "Ans)\n",
        "import random\n",
        "\n",
        "def shuffle_list(arr):\n",
        "    n = len(arr)\n",
        "    for i in range(n - 1, 0, -1):\n",
        "\n",
        "        j = random.randint(0, i)\n",
        "\n",
        "        arr[i], arr[j] = arr[j], arr[i]\n",
        "    return arr\n",
        "\n",
        "arr = list(map(int,input().split()))\n",
        "shuffled_arr = shuffle_list(arr)\n",
        "print(shuffled_arr)\n",
        "'''\n"
      ],
      "metadata": {
        "colab": {
          "base_uri": "https://localhost:8080/",
          "height": 54
        },
        "id": "uKcLdKRQhefG",
        "outputId": "b4af925b-4793-4d51-b27d-7ec88ffe43f9"
      },
      "execution_count": null,
      "outputs": [
        {
          "output_type": "execute_result",
          "data": {
            "text/plain": [
              "'\\nAns)\\nimport random\\n\\ndef shuffle_list(arr):\\n    n = len(arr)\\n    for i in range(n - 1, 0, -1):\\n        \\n        j = random.randint(0, i)\\n        \\n        arr[i], arr[j] = arr[j], arr[i]\\n    return arr\\n\\narr = list(map(int,input().split()))\\nshuffled_arr = shuffle_list(arr)\\nprint(shuffled_arr)\\n'"
            ],
            "application/vnd.google.colaboratory.intrinsic+json": {
              "type": "string"
            }
          },
          "metadata": {},
          "execution_count": 12
        }
      ]
    },
    {
      "cell_type": "code",
      "source": [
        "# 21. Write a code that takes two tuples as input and returns a new tuple containing elements that are common to both input tuples?\n",
        "'''\n",
        "Ans)\n",
        "\n",
        "tuple1 = tuple(map(int,input().split()))\n",
        "tuple2 = tuple(map(int,input().split()))\n",
        "common_elements = tuple(set(tuple1) & set(tuple2))\n",
        "print(common_elements)\n",
        "\n",
        "'''"
      ],
      "metadata": {
        "colab": {
          "base_uri": "https://localhost:8080/",
          "height": 36
        },
        "id": "LlMjTwJLiIQw",
        "outputId": "9c5fdaee-a865-47f2-e6bc-c9032279df92"
      },
      "execution_count": null,
      "outputs": [
        {
          "output_type": "execute_result",
          "data": {
            "text/plain": [
              "'\\nAns)\\n\\ntuple1 = tuple(map(int,input().split()))\\ntuple2 = tuple(map(int,input().split()))\\ncommon_elements = tuple(set(tuple1) & set(tuple2))\\nprint(common_elements)\\n\\n'"
            ],
            "application/vnd.google.colaboratory.intrinsic+json": {
              "type": "string"
            }
          },
          "metadata": {},
          "execution_count": 1
        }
      ]
    },
    {
      "cell_type": "code",
      "source": [
        "# 22. Create a code that prompts the user to enter two sets of integers separated by commas. Then, print the intersection of these two set.?\n",
        "'''\n",
        "Ans)\n",
        "\n",
        "set1 = set(map(int,input().split(',')))\n",
        "set2 = set(map(int,input().split(',')))\n",
        "intersection = set1.intersection(set2)\n",
        "print(intersection)\n",
        "\n",
        "'''"
      ],
      "metadata": {
        "colab": {
          "base_uri": "https://localhost:8080/",
          "height": 36
        },
        "id": "LZcZY5BpApwf",
        "outputId": "75ebba5b-c291-41ec-ac52-9e704834b217"
      },
      "execution_count": null,
      "outputs": [
        {
          "output_type": "execute_result",
          "data": {
            "text/plain": [
              "\"\\nAns)\\n\\nset1 = set(map(int,input().split(',')))\\nset2 = set(map(int,input().split(',')))\\nintersection = set1.intersection(set2)\\nprint(intersection)\\n\\n\""
            ],
            "application/vnd.google.colaboratory.intrinsic+json": {
              "type": "string"
            }
          },
          "metadata": {},
          "execution_count": 2
        }
      ]
    },
    {
      "cell_type": "code",
      "source": [
        "# 23. Write a code to concatenate two tuples. The function should take two tuples as input and return a new tuple containing elements from both input tuples.?\n",
        "'''\n",
        "Ans)\n",
        "\n",
        "def concatenate_tuples(tuple1, tuple2):\n",
        "    concatenated_tuple = tuple1 + tuple2\n",
        "    return concatenated_tuple\n",
        "'''"
      ],
      "metadata": {
        "colab": {
          "base_uri": "https://localhost:8080/",
          "height": 36
        },
        "id": "RBwXTlRTA33U",
        "outputId": "a4813857-5fd1-4927-aa50-6f76de3f9ce9"
      },
      "execution_count": null,
      "outputs": [
        {
          "output_type": "execute_result",
          "data": {
            "text/plain": [
              "'\\nAns)\\n\\ndef concatenate_tuples(tuple1, tuple2):\\n    concatenated_tuple = tuple1 + tuple2\\n    return concatenated_tuple\\n'"
            ],
            "application/vnd.google.colaboratory.intrinsic+json": {
              "type": "string"
            }
          },
          "metadata": {},
          "execution_count": 3
        }
      ]
    },
    {
      "cell_type": "code",
      "source": [
        "# 24. Develop a code that prompts the user to input two sets of strings. Then, print the elements that are present in the first set but not in the second set?\n",
        "\n",
        "'''\n",
        "\n",
        "Ans)\n",
        "\n",
        "set1 = set(input().split())\n",
        "set2 = set(input().split())\n",
        "difference = set1 - set2\n",
        "print(difference)\n",
        "\n",
        "'''"
      ],
      "metadata": {
        "colab": {
          "base_uri": "https://localhost:8080/",
          "height": 36
        },
        "id": "FW6grAkCBGn3",
        "outputId": "a7631660-1f03-4ea0-d5da-e5603fc75a71"
      },
      "execution_count": null,
      "outputs": [
        {
          "output_type": "execute_result",
          "data": {
            "text/plain": [
              "'\\n\\nAns)\\n\\nset1 = set(input().split())\\nset2 = set(input().split())\\ndifference = set1 - set2\\nprint(difference)\\n\\n'"
            ],
            "application/vnd.google.colaboratory.intrinsic+json": {
              "type": "string"
            }
          },
          "metadata": {},
          "execution_count": 4
        }
      ]
    },
    {
      "cell_type": "code",
      "source": [
        "# 25. Create a code that takes a tuple and two integers as input. The function should return a new tuple containing elements from the original tuple within the specified range of indices?\n",
        "\n",
        "'''\n",
        "Ans)\n",
        "\n",
        "tuple1 = tuple(map(int,input().split()))\n",
        "start = int(input())\n",
        "end = int(input())\n",
        "new_tuple = tuple1[start:end+1]\n",
        "print(new_tuple)\n",
        "\n",
        "'''"
      ],
      "metadata": {
        "colab": {
          "base_uri": "https://localhost:8080/",
          "height": 36
        },
        "id": "Esg3KXVWBWKF",
        "outputId": "aa67381b-7ee7-4ad0-ab6f-c806a8c7c5f0"
      },
      "execution_count": null,
      "outputs": [
        {
          "output_type": "execute_result",
          "data": {
            "text/plain": [
              "'\\nAns)\\n\\ntuple1 = tuple(map(int,input().split()))\\nstart = int(input())\\nend = int(input())\\nnew_tuple = tuple1[start:end+1]\\nprint(new_tuple)\\n\\n'"
            ],
            "application/vnd.google.colaboratory.intrinsic+json": {
              "type": "string"
            }
          },
          "metadata": {},
          "execution_count": 5
        }
      ]
    },
    {
      "cell_type": "code",
      "source": [
        "#26. Write a code that prompts the user to input two sets of characters. Then, print the union of these two sets.?\n",
        "\n",
        "'''\n",
        "Ans)\n",
        "\n",
        "set1 = set(input())\n",
        "set2 = set(input())\n",
        "union = set1 | set2\n",
        "print(union)\n",
        "'''"
      ],
      "metadata": {
        "colab": {
          "base_uri": "https://localhost:8080/",
          "height": 36
        },
        "id": "ThcMuSp0CgRe",
        "outputId": "9d4fe197-be3a-4f4f-a442-da455abe65c3"
      },
      "execution_count": null,
      "outputs": [
        {
          "output_type": "execute_result",
          "data": {
            "text/plain": [
              "'\\nAns)\\n\\nset1 = set(input())\\nset2 = set(input())\\nunion = set1 | set2\\nprint(union)\\n'"
            ],
            "application/vnd.google.colaboratory.intrinsic+json": {
              "type": "string"
            }
          },
          "metadata": {},
          "execution_count": 6
        }
      ]
    },
    {
      "cell_type": "code",
      "source": [
        "# 27.  Develop a code that takes a tuple of integers as input. The function should return the maximum and minimum values from the tuple using tuple unpacking?\n",
        "\n",
        "'''\n",
        "Ans)\n",
        "\n",
        "def unpacking(tuple1):\n",
        "  maxi = max(tuple1)\n",
        "  mini = min(tuple1)\n",
        "  return maxi,mini\n",
        "\n",
        "tuple1 = tuple(map(int,input().split()))\n",
        "maxi,mini = unpacking(tuple1)\n",
        "print(maxi,mini)\n",
        "\n",
        "'''"
      ],
      "metadata": {
        "id": "wpprgS0dIPXC",
        "colab": {
          "base_uri": "https://localhost:8080/",
          "height": 54
        },
        "outputId": "c6503873-d692-4b1f-b43b-116fb9785ad8"
      },
      "execution_count": 1,
      "outputs": [
        {
          "output_type": "execute_result",
          "data": {
            "text/plain": [
              "'\\nAns)\\n\\ndef unpacking(tuple1):\\n  maxi = max(tuple1)\\n  mini = min(tuple1)\\n  return maxi,mini\\n\\ntuple1 = tuple(map(int,input().split()))\\nmaxi,mini = unpacking(tuple1)\\nprint(maxi,mini)\\n\\n'"
            ],
            "application/vnd.google.colaboratory.intrinsic+json": {
              "type": "string"
            }
          },
          "metadata": {},
          "execution_count": 1
        }
      ]
    },
    {
      "cell_type": "code",
      "source": [
        "# 28. Create a code that defines two sets of integers. Then, print the union, intersection, and difference of these two sets?\n",
        "'''\n",
        "Ans)\n",
        "\n",
        "set1 = set(map(int,input().split()))\n",
        "set2 = set(map(int,input().split()))\n",
        "union = set1 | set2\n",
        "intersection = set1 & set2\n",
        "difference = set1 - set2\n",
        "print(union,intersection,difference)\n",
        "'''"
      ],
      "metadata": {
        "colab": {
          "base_uri": "https://localhost:8080/",
          "height": 54
        },
        "id": "oZs65QIAVlPI",
        "outputId": "4b1146af-9b0b-47bc-c7df-08f2c3af7cd9"
      },
      "execution_count": 2,
      "outputs": [
        {
          "output_type": "execute_result",
          "data": {
            "text/plain": [
              "'\\nAns)\\n\\nset1 = set(map(int,input().split()))\\nset2 = set(map(int,input().split()))\\nunion = set1 | set2\\nintersection = set1 & set2\\ndifference = set1 - set2\\nprint(union,intersection,difference)\\n'"
            ],
            "application/vnd.google.colaboratory.intrinsic+json": {
              "type": "string"
            }
          },
          "metadata": {},
          "execution_count": 2
        }
      ]
    },
    {
      "cell_type": "code",
      "source": [
        "# 29.  Write a code that takes a tuple and an element as input. The function should return the count of occurrences of the given element in the tuples?\n",
        "\n",
        "'''\n",
        "Ans)\n",
        "\n",
        "def count_element(tuple1,element):\n",
        "  count = tuple1.count(element)\n",
        "  return count\n",
        "\n",
        "tuple1 = tuple(map(int,input().split()))\n",
        "element = int(input())\n",
        "count = count_element(tuple1,element)\n",
        "print(count)\n",
        "'''"
      ],
      "metadata": {
        "colab": {
          "base_uri": "https://localhost:8080/",
          "height": 54
        },
        "id": "Iu_YWrJMXFXu",
        "outputId": "e8c722c8-0b0d-4b01-b95a-722f533fe627"
      },
      "execution_count": 4,
      "outputs": [
        {
          "output_type": "execute_result",
          "data": {
            "text/plain": [
              "'\\nAns)\\n\\ndef count_element(tuple1,element):\\n  count = tuple1.count(element)\\n  return count\\n\\ntuple1 = tuple(map(int,input().split()))\\nelement = int(input())\\ncount = count_element(tuple1,element)\\nprint(count)\\n'"
            ],
            "application/vnd.google.colaboratory.intrinsic+json": {
              "type": "string"
            }
          },
          "metadata": {},
          "execution_count": 4
        }
      ]
    },
    {
      "cell_type": "code",
      "source": [
        "# 30.  Develop a code that prompts the user to input two sets of strings. Then, print the symmetric difference of these two sets?\n",
        "\n",
        "'''\n",
        "Ans)\n",
        "\n",
        "set1 = set(input().split())\n",
        "set2 = set(input().split())\n",
        "symmetric_difference = set1 ^ set2\n",
        "print(symmetric_difference)\n",
        "\n",
        "'''\n"
      ],
      "metadata": {
        "colab": {
          "base_uri": "https://localhost:8080/",
          "height": 36
        },
        "id": "6su7lsXdXarM",
        "outputId": "3fb2ee0d-97ca-4279-8219-d689f54bd79a"
      },
      "execution_count": 5,
      "outputs": [
        {
          "output_type": "execute_result",
          "data": {
            "text/plain": [
              "'\\nAns)\\n\\nset1 = set(input().split())\\nset2 = set(input().split())\\nsymmetric_difference = set1 ^ set2\\nprint(symmetric_difference)\\n\\n'"
            ],
            "application/vnd.google.colaboratory.intrinsic+json": {
              "type": "string"
            }
          },
          "metadata": {},
          "execution_count": 5
        }
      ]
    },
    {
      "cell_type": "code",
      "source": [
        "# 31.  Write a code that takes a list of words as input and returns a dictionary where the keys are unique words and the values are the frequencies of those words in the input list?\n",
        "\n",
        "'''\n",
        "Ans)\n",
        "\n",
        "def word_frequency(words):\n",
        "    frequency = {}\n",
        "    for word in words:\n",
        "        if word in frequency:\n",
        "            frequency[word] += 1\n",
        "        else:\n",
        "            frequency[word] = 1\n",
        "    return frequency\n",
        "\n",
        "words = input().split()\n",
        "frequency_dict = word_frequency(word_list)\n",
        "print(frequency_dict)\n",
        "\n",
        "'''"
      ],
      "metadata": {
        "colab": {
          "base_uri": "https://localhost:8080/",
          "height": 54
        },
        "id": "NAH3lIMBXuCU",
        "outputId": "9acde8aa-cb22-4b13-be48-5f79a8db7c38"
      },
      "execution_count": 6,
      "outputs": [
        {
          "output_type": "execute_result",
          "data": {
            "text/plain": [
              "'\\nAns)\\n\\ndef word_frequency(words):\\n    frequency = {}\\n    for word in words:\\n        if word in frequency:\\n            frequency[word] += 1\\n        else:\\n            frequency[word] = 1\\n    return frequency\\n\\nwords = input().split()\\nfrequency_dict = word_frequency(word_list)\\nprint(frequency_dict)\\n\\n'"
            ],
            "application/vnd.google.colaboratory.intrinsic+json": {
              "type": "string"
            }
          },
          "metadata": {},
          "execution_count": 6
        }
      ]
    },
    {
      "cell_type": "code",
      "source": [
        "# 32. Write a code that takes two dictionaries as input and merges them into a single dictionary. If there are common keys, the values should be added together.?\n",
        "\n",
        "'''\n",
        "def merge_dicts(dict1, dict2):\n",
        "    merged_dict = dict1.copy()\n",
        "\n",
        "    for key, value in dict2.items():\n",
        "        if key in merged_dict:\n",
        "            merged_dict[key] += value\n",
        "        else:\n",
        "            merged_dict[key] = value\n",
        "\n",
        "    return merged_dict\n",
        "\n",
        "\n",
        "result = merge_dicts(dict1, dict2)\n",
        "print(\"Merged Dictionary:\", result)\n",
        "\n",
        "'''\n"
      ],
      "metadata": {
        "colab": {
          "base_uri": "https://localhost:8080/",
          "height": 54
        },
        "id": "F9Hcqgkjd79D",
        "outputId": "c8838eea-4f5e-442b-fcc0-4018f786e2b9"
      },
      "execution_count": 7,
      "outputs": [
        {
          "output_type": "execute_result",
          "data": {
            "text/plain": [
              "'\\ndef merge_dicts(dict1, dict2):\\n    merged_dict = dict1.copy()\\n\\n    for key, value in dict2.items():\\n        if key in merged_dict:\\n            merged_dict[key] += value\\n        else:\\n            merged_dict[key] = value\\n\\n    return merged_dict\\n\\n\\nresult = merge_dicts(dict1, dict2)\\nprint(\"Merged Dictionary:\", result)\\n\\n'"
            ],
            "application/vnd.google.colaboratory.intrinsic+json": {
              "type": "string"
            }
          },
          "metadata": {},
          "execution_count": 7
        }
      ]
    },
    {
      "cell_type": "code",
      "source": [
        "# 33. Write a code to access a value in a nested dictionary. The function should take the dictionary and a list of\n",
        "#keys as input, and return the corresponding value. If any of the keys do not exist in the dictionary, the\n",
        "# function should return None\n",
        "\n",
        "'''\n",
        "def get_nested_value(data_dict, keys):\n",
        "    current_value = data_dict\n",
        "    for key in keys:\n",
        "        if isinstance(current_value, dict) and key in current_value:\n",
        "            current_value = current_value[key]\n",
        "        else:\n",
        "            return None  # Key does not exist\n",
        "    return current_value\n",
        "\n",
        "nested_dict = {\n",
        "    \"a\": {\n",
        "        \"b\": {\n",
        "            \"c\": 42\n",
        "        }\n",
        "    }\n",
        "}\n",
        "\n",
        "keys = [\"a\", \"b\", \"c\"]\n",
        "print(get_nested_value(nested_dict, keys))\n",
        "\n",
        "keys = [\"a\", \"x\", \"c\"]\n",
        "print(get_nested_value(nested_dict, keys))\n",
        "'''"
      ],
      "metadata": {
        "colab": {
          "base_uri": "https://localhost:8080/",
          "height": 72
        },
        "id": "fZvoyJnVejDG",
        "outputId": "1bcd270b-8492-4aa7-a112-653fc961a9d5"
      },
      "execution_count": 8,
      "outputs": [
        {
          "output_type": "execute_result",
          "data": {
            "text/plain": [
              "'\\ndef get_nested_value(data_dict, keys):\\n    current_value = data_dict\\n    for key in keys:\\n        if isinstance(current_value, dict) and key in current_value:\\n            current_value = current_value[key]\\n        else:\\n            return None  # Key does not exist\\n    return current_value\\n\\nnested_dict = {\\n    \"a\": {\\n        \"b\": {\\n            \"c\": 42\\n        }\\n    }\\n}\\n\\nkeys = [\"a\", \"b\", \"c\"]\\nprint(get_nested_value(nested_dict, keys))  \\n\\nkeys = [\"a\", \"x\", \"c\"]\\nprint(get_nested_value(nested_dict, keys))  \\n'"
            ],
            "application/vnd.google.colaboratory.intrinsic+json": {
              "type": "string"
            }
          },
          "metadata": {},
          "execution_count": 8
        }
      ]
    },
    {
      "cell_type": "code",
      "source": [
        "# 34. Write a code that takes a dictionary as input and returns a sorted version of it based on the values. You can choose whether to sort in ascending or descending order?\n",
        "'''\n",
        "Ans)\n",
        "def sort_dict_by_value(input_dict, ascending=True):\n",
        "    sorted_items = sorted(input_dict.items(), key=lambda item: item[1], reverse=not ascending)\n",
        "    return dict(sorted_items)\n",
        "\n",
        "# Sort in ascending order\n",
        "print(sort_dict_by_value(data, ascending=True))  # Output: {'banana': 1, 'cherry': 2, 'apple': 3}\n",
        "\n",
        "# Sort in descending order\n",
        "print(sort_dict_by_value(data, ascending=False))  # Output: {'apple': 3, 'cherry': 2, 'banana': 1}\n",
        "'''"
      ],
      "metadata": {
        "colab": {
          "base_uri": "https://localhost:8080/",
          "height": 72
        },
        "id": "tzArjikxfQic",
        "outputId": "35b44413-6fe5-44db-e338-376512bb9464"
      },
      "execution_count": 9,
      "outputs": [
        {
          "output_type": "execute_result",
          "data": {
            "text/plain": [
              "\"\\nAns)\\ndef sort_dict_by_value(input_dict, ascending=True):\\n    sorted_items = sorted(input_dict.items(), key=lambda item: item[1], reverse=not ascending)\\n    return dict(sorted_items)\\n\\n# Sort in ascending order\\nprint(sort_dict_by_value(data, ascending=True))  # Output: {'banana': 1, 'cherry': 2, 'apple': 3}\\n\\n# Sort in descending order\\nprint(sort_dict_by_value(data, ascending=False))  # Output: {'apple': 3, 'cherry': 2, 'banana': 1}\\n\""
            ],
            "application/vnd.google.colaboratory.intrinsic+json": {
              "type": "string"
            }
          },
          "metadata": {},
          "execution_count": 9
        }
      ]
    },
    {
      "cell_type": "code",
      "source": [
        "# 35.  Write a code that inverts a dictionary, swapping keys and values. Ensure that the inverted dictionary\n",
        "#correctly handles cases where multiple keys have the same value by storing the keys as a list in the\n",
        "#inverted dictionary\n",
        "\n",
        "'''\n",
        "Ans)\n",
        "\n",
        "def invert_dictionary(input_dict):\n",
        "\n",
        "    inverted_dict = {}\n",
        "    for key, value in input_dict.items():\n",
        "        if value in inverted_dict:\n",
        "            inverted_dict[value].append(key)  # Append key to existing list\n",
        "        else:\n",
        "            inverted_dict[value] = [key]  # Create a new list with the key\n",
        "    return inverted_dict\n",
        "\n",
        "\n",
        "data = {\"a\": 1, \"b\": 2, \"c\": 1, \"d\": 3}\n",
        "\n",
        "inverted = invert_dictionary(data)\n",
        "print(inverted)\n",
        "'''"
      ],
      "metadata": {
        "colab": {
          "base_uri": "https://localhost:8080/",
          "height": 72
        },
        "id": "fXXA-GTDfylX",
        "outputId": "ae48af07-7a32-4502-c404-834355e1e01e"
      },
      "execution_count": 11,
      "outputs": [
        {
          "output_type": "execute_result",
          "data": {
            "text/plain": [
              "'\\nAns)\\n\\ndef invert_dictionary(input_dict):\\n    \\n    inverted_dict = {}\\n    for key, value in input_dict.items():\\n        if value in inverted_dict:\\n            inverted_dict[value].append(key)  # Append key to existing list\\n        else:\\n            inverted_dict[value] = [key]  # Create a new list with the key\\n    return inverted_dict\\n\\n\\ndata = {\"a\": 1, \"b\": 2, \"c\": 1, \"d\": 3}\\n\\ninverted = invert_dictionary(data)\\nprint(inverted)  \\n'"
            ],
            "application/vnd.google.colaboratory.intrinsic+json": {
              "type": "string"
            }
          },
          "metadata": {},
          "execution_count": 11
        }
      ]
    },
    {
      "cell_type": "code",
      "source": [],
      "metadata": {
        "id": "Kbi2udG8hK-a"
      },
      "execution_count": null,
      "outputs": []
    }
  ]
}